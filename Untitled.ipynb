{
 "cells": [
  {
   "cell_type": "code",
   "execution_count": 3,
   "id": "cd1e1231-1869-41cb-b93a-0f0fcf6fe883",
   "metadata": {},
   "outputs": [
    {
     "name": "stdout",
     "output_type": "stream",
     "text": [
      "[0.00632, 18.0, 2.31, 0.0, 0.538, 6.575, 65.2, 4.09, 1.0, 296.0, 15.3, 396.9, 4.98]\n"
     ]
    }
   ],
   "source": [
    "import csv \n",
    "file=open(\"C:/Users/AdMin/OneDrive/Bureau/boston.csv\",\"r\")\n",
    "R=csv.reader(file,delimiter=\";\")\n",
    "data=[]\n",
    "for e in R:\n",
    "    T=[]\n",
    "    for i in range(len(e)-1):\n",
    "        T.append(float(e[i]))\n",
    "    data.append(T)\n",
    "print(data[0])"
   ]
  },
  {
   "cell_type": "code",
   "execution_count": 10,
   "id": "94ac8f12-863b-4109-9fc6-fc5cbd9727cc",
   "metadata": {},
   "outputs": [
    {
     "name": "stdout",
     "output_type": "stream",
     "text": [
      "58.955079696240766\n"
     ]
    }
   ],
   "source": [
    "#distance eucledienne\n",
    "def distance (x,y): \n",
    "    s=0\n",
    "    for i in range (len(x)):\n",
    "        s=s+(x[i]-y[i])**2\n",
    "    return s**0.5\n",
    "print(distance(data[0],data[1]))"
   ]
  },
  {
   "cell_type": "code",
   "execution_count": null,
   "id": "aef24fff-a5fd-4460-8d62-913d55a78a68",
   "metadata": {},
   "outputs": [],
   "source": [
    "from random import randint \n",
    "def centroides_depart(data,k):\n",
    "    C=[]\n",
    "    while len(C)<k:\n",
    "        i=randint(0,len(data)-1)\n",
    "        if data[i] not in C : C.append(data[i])\n",
    "    return C\n",
    "print(centroides_depart(data,5))\n"
   ]
  },
  {
   "cell_type": "code",
   "execution_count": null,
   "id": "2fa62bd2-ad31-4b69-b614-ae71f7daf6f7",
   "metadata": {},
   "outputs": [],
   "source": [
    "def centroide_proche (m,C):\n",
    "    i=0\n",
    "    d=distance(m,C[0])\n",
    "    for j in range (1,len(C)):\n",
    "        r=distance(m,C[j])\n",
    "        if r<d:\n",
    "            d=r\n",
    "            i=j\n",
    "    return i\n",
    "\n"
   ]
  },
  {
   "cell_type": "code",
   "execution_count": null,
   "id": "61443333-c88d-4f7d-b682-04724fb5f314",
   "metadata": {},
   "outputs": [],
   "source": [
    "def partitions(data,C):\n",
    "    k=len(C)\n",
    "    G={i:[]for i in range (k)}\n",
    "    for i in range (len(data)) :\n",
    "        p = centroide_proche(m,C)\n",
    "        G[p].append(m)\n",
    "    return G\n",
    "C=centroides_depart(data,3)\n",
    "G=partitions(data,C)\n",
    "print(G[0])\n"
   ]
  },
  {
   "cell_type": "code",
   "execution_count": null,
   "id": "a0c1e4f6-1379-4b01-ab4e-26881552925f",
   "metadata": {},
   "outputs": [],
   "source": [
    "def calcul_centroides(data,L):\n",
    "    \n",
    "    m=len(L)\n",
    "    c=[0]*m\n",
    "    for e in L:\n",
    "        for j in range(m):\n",
    "            c[j]=c[j]+data[e][j]\n",
    "            \n",
    "    n=len(L) \n",
    "    for j in range(m):\n",
    "        c[j]=round([j]/n,2)\n",
    "        \n",
    "    return c\n",
    "    \n",
    "print(calcul_centroides(data,G[0]))\n",
    "        "
   ]
  },
  {
   "cell_type": "code",
   "execution_count": null,
   "id": "145a8c44-537c-4315-ae80-5b266a12dd20",
   "metadata": {},
   "outputs": [],
   "source": []
  }
 ],
 "metadata": {
  "kernelspec": {
   "display_name": "Python 3 (ipykernel)",
   "language": "python",
   "name": "python3"
  },
  "language_info": {
   "codemirror_mode": {
    "name": "ipython",
    "version": 3
   },
   "file_extension": ".py",
   "mimetype": "text/x-python",
   "name": "python",
   "nbconvert_exporter": "python",
   "pygments_lexer": "ipython3",
   "version": "3.8.2"
  }
 },
 "nbformat": 4,
 "nbformat_minor": 5
}
